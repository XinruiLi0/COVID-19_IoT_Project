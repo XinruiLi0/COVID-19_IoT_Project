import pandas as pd
import numpy as np
import matplotlib.pyplot as plt
from sklearn.linear_model import LogisticRegression
from sklearn.model_selection import train_test_split
from sklearn.metrics import classification_report, confusion_matrix
import pyodbc
conn = pyodbc.connect(
    'Driver={ODBC Driver 13 for SQL Server};'
    'Server=ivmsdb.cs17etkshc9t.us-east-1.rds.amazonaws.com,1433;'
    'Database=ivmsdb;'
    'UID=admin;'
    'PWD=ivmsdbadmin;'
)
cursor = conn.cursor()
sql = "SELECT * from test;"


data = pd.read_sql(sql,conn)
print(data)

def sugmoid(z):
    return 1.0/(1+np.exp(-z))

from sklearn.linear_model import LogisticRegression
logreg = LogisticRegression()

x = data[['column1']]
x = x.astype(int)
y = data["column3"]
y = y.astype(int)

model = LogisticRegression(solver='liblinear', random_state=0)
model.fit(x, y)

p_pred = model.predict_proba(x)
y_pred = model.predict(x)
score_ = model.score(x, y)
conf_m = confusion_matrix(y, y_pred)
report = classification_report(y, y_pred)


print(report)

print(p_pred)
print("y_pred" , y_pred)

print(score_) 